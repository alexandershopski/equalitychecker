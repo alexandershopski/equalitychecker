{
  "nbformat": 4,
  "nbformat_minor": 0,
  "metadata": {
    "colab": {
      "name": "AD Hackathon - Team 9.ipynb",
      "provenance": [],
      "collapsed_sections": [],
      "include_colab_link": true
    },
    "kernelspec": {
      "name": "python3",
      "display_name": "Python 3"
    }
  },
  "cells": [
    {
      "cell_type": "markdown",
      "metadata": {
        "id": "view-in-github",
        "colab_type": "text"
      },
      "source": [
        "<a href=\"https://colab.research.google.com/github/alexandershopski/equalitychecker/blob/main/AD_Hackathon_Team_9.ipynb\" target=\"_parent\"><img src=\"https://colab.research.google.com/assets/colab-badge.svg\" alt=\"Open In Colab\"/></a>"
      ]
    },
    {
      "cell_type": "markdown",
      "metadata": {
        "id": "Y8Xjv0uwGu_z"
      },
      "source": [
        "# Questions to answer, given hiring funnel data\n",
        "1. How biased is the hiring funnel?\n",
        "2. Which steps in the flow introduces most of the bias?\n",
        "3. What can I do to reduce the bias introduced by this step?"
      ]
    },
    {
      "cell_type": "code",
      "metadata": {
        "id": "L4RNcwSsrkmn"
      },
      "source": [
        "import pandas as pd\n",
        "from scipy import stats\n",
        "from plotly import graph_objects as go"
      ],
      "execution_count": null,
      "outputs": []
    },
    {
      "cell_type": "code",
      "metadata": {
        "id": "gkAQ425Wrq7d"
      },
      "source": [
        "# Data courtesy of Omer Koren, CEO of Webiks: https://webiks.com/\n",
        "# Trans & Non-Binary data added for illustration\n",
        "\n",
        "recruitment_finnel_dict = {'Fullstack Dev':\n",
        "                           {'Male':\n",
        "                            {'CV': 1448,\n",
        "                            'Phone Interview': 40,\n",
        "                           'Professional Interview 1': 23,\n",
        "                           'Professional Interview 2': 13,\n",
        "                           'CEO Interview': 11,\n",
        "                           'Offered': 8,\n",
        "                           'Signed': 4},\n",
        "                            'Female':\n",
        "                            {'CV': 493,\n",
        "                            'Phone Interview': 24,\n",
        "                           'Professional Interview 1': 12,\n",
        "                           'Professional Interview 2': 2,\n",
        "                           'CEO Interview': 2,\n",
        "                           'Offered': 2,\n",
        "                           'Signed': 1},\n",
        "                            'Non-Binary':\n",
        "                            {'CV': 50,\n",
        "                            'Phone Interview': 2,\n",
        "                           'Professional Interview 1': 1,\n",
        "                           'Professional Interview 2': 1,\n",
        "                           'CEO Interview': 1,\n",
        "                           'Offered': 0,\n",
        "                           'Signed': 0},\n",
        "                            'Trans': {'CV': 50,\n",
        "                            'Phone Interview': 2,\n",
        "                           'Professional Interview 1': 1,\n",
        "                           'Professional Interview 2': 1,\n",
        "                           'CEO Interview': 1,\n",
        "                           'Offered': 1,\n",
        "                           'Signed': 1},\n",
        "                           },\n",
        "                          'Data Scientist':\n",
        "                           {'Male':\n",
        "                            {'CV': 22,\n",
        "                            'Phone Interview': 7,\n",
        "                           'Professional Interview 1': 1,\n",
        "                           'Professional Interview 2': 0,\n",
        "                           'CEO Interview': 3,\n",
        "                           'Offered': 0,\n",
        "                           'Signed': 0},\n",
        "                            'Female':\n",
        "                            {'CV': 5,\n",
        "                            'Phone Interview': 0,\n",
        "                           'Professional Interview 1': 0,\n",
        "                           'Professional Interview 2': 0,\n",
        "                           'CEO Interview': 0,\n",
        "                           'Offered': 0,\n",
        "                           'Signed': 0}\n",
        "                           }\n",
        "}"
      ],
      "execution_count": null,
      "outputs": []
    },
    {
      "cell_type": "code",
      "metadata": {
        "id": "NqoR7_xEuBGU",
        "outputId": "de7cf65b-c158-43ee-db7c-38c1cbbeaec6",
        "colab": {
          "base_uri": "https://localhost:8080/",
          "height": 254
        }
      },
      "source": [
        "fullstack_flow_df = pd.DataFrame(recruitment_finnel_dict['Fullstack Dev'])\n",
        "\n",
        "fullstack_flow_df.eval(\"Percent_Female = Female * 100.0 / (Female + Male)\")"
      ],
      "execution_count": null,
      "outputs": [
        {
          "output_type": "execute_result",
          "data": {
            "text/html": [
              "<div>\n",
              "<style scoped>\n",
              "    .dataframe tbody tr th:only-of-type {\n",
              "        vertical-align: middle;\n",
              "    }\n",
              "\n",
              "    .dataframe tbody tr th {\n",
              "        vertical-align: top;\n",
              "    }\n",
              "\n",
              "    .dataframe thead th {\n",
              "        text-align: right;\n",
              "    }\n",
              "</style>\n",
              "<table border=\"1\" class=\"dataframe\">\n",
              "  <thead>\n",
              "    <tr style=\"text-align: right;\">\n",
              "      <th></th>\n",
              "      <th>Male</th>\n",
              "      <th>Female</th>\n",
              "      <th>Non-Binary</th>\n",
              "      <th>Trans</th>\n",
              "      <th>Percent_Female</th>\n",
              "    </tr>\n",
              "  </thead>\n",
              "  <tbody>\n",
              "    <tr>\n",
              "      <th>CV</th>\n",
              "      <td>1448</td>\n",
              "      <td>493</td>\n",
              "      <td>50</td>\n",
              "      <td>50</td>\n",
              "      <td>25.399279</td>\n",
              "    </tr>\n",
              "    <tr>\n",
              "      <th>Phone Interview</th>\n",
              "      <td>40</td>\n",
              "      <td>24</td>\n",
              "      <td>2</td>\n",
              "      <td>2</td>\n",
              "      <td>37.500000</td>\n",
              "    </tr>\n",
              "    <tr>\n",
              "      <th>Professional Interview 1</th>\n",
              "      <td>23</td>\n",
              "      <td>12</td>\n",
              "      <td>1</td>\n",
              "      <td>1</td>\n",
              "      <td>34.285714</td>\n",
              "    </tr>\n",
              "    <tr>\n",
              "      <th>Professional Interview 2</th>\n",
              "      <td>13</td>\n",
              "      <td>2</td>\n",
              "      <td>1</td>\n",
              "      <td>1</td>\n",
              "      <td>13.333333</td>\n",
              "    </tr>\n",
              "    <tr>\n",
              "      <th>CEO Interview</th>\n",
              "      <td>11</td>\n",
              "      <td>2</td>\n",
              "      <td>1</td>\n",
              "      <td>1</td>\n",
              "      <td>15.384615</td>\n",
              "    </tr>\n",
              "    <tr>\n",
              "      <th>Offered</th>\n",
              "      <td>8</td>\n",
              "      <td>2</td>\n",
              "      <td>0</td>\n",
              "      <td>1</td>\n",
              "      <td>20.000000</td>\n",
              "    </tr>\n",
              "    <tr>\n",
              "      <th>Signed</th>\n",
              "      <td>4</td>\n",
              "      <td>1</td>\n",
              "      <td>0</td>\n",
              "      <td>1</td>\n",
              "      <td>20.000000</td>\n",
              "    </tr>\n",
              "  </tbody>\n",
              "</table>\n",
              "</div>"
            ],
            "text/plain": [
              "                          Male  Female  Non-Binary  Trans  Percent_Female\n",
              "CV                        1448     493          50     50       25.399279\n",
              "Phone Interview             40      24           2      2       37.500000\n",
              "Professional Interview 1    23      12           1      1       34.285714\n",
              "Professional Interview 2    13       2           1      1       13.333333\n",
              "CEO Interview               11       2           1      1       15.384615\n",
              "Offered                      8       2           0      1       20.000000\n",
              "Signed                       4       1           0      1       20.000000"
            ]
          },
          "metadata": {
            "tags": []
          },
          "execution_count": 4
        }
      ]
    },
    {
      "cell_type": "markdown",
      "metadata": {
        "id": "P81pKKJObZIN"
      },
      "source": [
        "1. We can see that only 20% of the hires (1/5) are Female, despite the fact that 25.4% of applicants were Female.\n",
        "2. We can also see that there is no representation of Non-Binary Genders in the dataset (which either speaks to the data collection process or to lack of participation from non-binary people at the process)\n",
        "3. What are the reasons for disqualifying male vs female?"
      ]
    },
    {
      "cell_type": "code",
      "metadata": {
        "id": "n_M9L87FGuBd"
      },
      "source": [
        "def generate_funnel(flow_df):\n",
        "  fig = go.Figure()\n",
        "\n",
        "  for gender in flow_df.columns:\n",
        "    fig.add_trace(go.Funnel(\n",
        "        name = gender,\n",
        "        y = flow_df.index,\n",
        "        x = flow_df[gender],\n",
        "        textinfo = 'value+percent previous',\n",
        "    ))\n",
        "\n",
        "  fig.show()"
      ],
      "execution_count": null,
      "outputs": []
    },
    {
      "cell_type": "code",
      "metadata": {
        "id": "Gh9wCCQrLrMM",
        "outputId": "2cedeb24-4ceb-485c-d36c-cb9ded66b751",
        "colab": {
          "base_uri": "https://localhost:8080/",
          "height": 542
        }
      },
      "source": [
        "generate_funnel(fullstack_flow_df)"
      ],
      "execution_count": null,
      "outputs": [
        {
          "output_type": "display_data",
          "data": {
            "text/html": [
              "<html>\n",
              "<head><meta charset=\"utf-8\" /></head>\n",
              "<body>\n",
              "    <div>\n",
              "            <script src=\"https://cdnjs.cloudflare.com/ajax/libs/mathjax/2.7.5/MathJax.js?config=TeX-AMS-MML_SVG\"></script><script type=\"text/javascript\">if (window.MathJax) {MathJax.Hub.Config({SVG: {font: \"STIX-Web\"}});}</script>\n",
              "                <script type=\"text/javascript\">window.PlotlyConfig = {MathJaxConfig: 'local'};</script>\n",
              "        <script src=\"https://cdn.plot.ly/plotly-latest.min.js\"></script>    \n",
              "            <div id=\"cf4c6cb7-dd77-41c7-9291-c098b9948535\" class=\"plotly-graph-div\" style=\"height:525px; width:100%;\"></div>\n",
              "            <script type=\"text/javascript\">\n",
              "                \n",
              "                    window.PLOTLYENV=window.PLOTLYENV || {};\n",
              "                    \n",
              "                if (document.getElementById(\"cf4c6cb7-dd77-41c7-9291-c098b9948535\")) {\n",
              "                    Plotly.newPlot(\n",
              "                        'cf4c6cb7-dd77-41c7-9291-c098b9948535',\n",
              "                        [{\"name\": \"Male\", \"textinfo\": \"value+percent previous\", \"type\": \"funnel\", \"x\": [1448, 40, 23, 13, 11, 8, 4], \"y\": [\"CV\", \"Phone Interview\", \"Profesional Interview 1\", \"Profesional Interview 2\", \"CEO Interview\", \"Offered\", \"Signed\"]}, {\"name\": \"Female\", \"textinfo\": \"value+percent previous\", \"type\": \"funnel\", \"x\": [493, 24, 12, 2, 2, 2, 1], \"y\": [\"CV\", \"Phone Interview\", \"Profesional Interview 1\", \"Profesional Interview 2\", \"CEO Interview\", \"Offered\", \"Signed\"]}, {\"name\": \"Non-Binary\", \"textinfo\": \"value+percent previous\", \"type\": \"funnel\", \"x\": [50, 2, 1, 1, 1, 0, 0], \"y\": [\"CV\", \"Phone Interview\", \"Profesional Interview 1\", \"Profesional Interview 2\", \"CEO Interview\", \"Offered\", \"Signed\"]}, {\"name\": \"Trans\", \"textinfo\": \"value+percent previous\", \"type\": \"funnel\", \"x\": [50, 2, 1, 1, 1, 1, 1], \"y\": [\"CV\", \"Phone Interview\", \"Profesional Interview 1\", \"Profesional Interview 2\", \"CEO Interview\", \"Offered\", \"Signed\"]}],\n",
              "                        {\"template\": {\"data\": {\"bar\": [{\"error_x\": {\"color\": \"#2a3f5f\"}, \"error_y\": {\"color\": \"#2a3f5f\"}, \"marker\": {\"line\": {\"color\": \"#E5ECF6\", \"width\": 0.5}}, \"type\": \"bar\"}], \"barpolar\": [{\"marker\": {\"line\": {\"color\": \"#E5ECF6\", \"width\": 0.5}}, \"type\": \"barpolar\"}], \"carpet\": [{\"aaxis\": {\"endlinecolor\": \"#2a3f5f\", \"gridcolor\": \"white\", \"linecolor\": \"white\", \"minorgridcolor\": \"white\", \"startlinecolor\": \"#2a3f5f\"}, \"baxis\": {\"endlinecolor\": \"#2a3f5f\", \"gridcolor\": \"white\", \"linecolor\": \"white\", \"minorgridcolor\": \"white\", \"startlinecolor\": \"#2a3f5f\"}, \"type\": \"carpet\"}], \"choropleth\": [{\"colorbar\": {\"outlinewidth\": 0, \"ticks\": \"\"}, \"type\": \"choropleth\"}], \"contour\": [{\"colorbar\": {\"outlinewidth\": 0, \"ticks\": \"\"}, \"colorscale\": [[0.0, \"#0d0887\"], [0.1111111111111111, \"#46039f\"], [0.2222222222222222, \"#7201a8\"], [0.3333333333333333, \"#9c179e\"], [0.4444444444444444, \"#bd3786\"], [0.5555555555555556, \"#d8576b\"], [0.6666666666666666, \"#ed7953\"], [0.7777777777777778, \"#fb9f3a\"], [0.8888888888888888, \"#fdca26\"], [1.0, \"#f0f921\"]], \"type\": \"contour\"}], \"contourcarpet\": [{\"colorbar\": {\"outlinewidth\": 0, \"ticks\": \"\"}, \"type\": \"contourcarpet\"}], \"heatmap\": [{\"colorbar\": {\"outlinewidth\": 0, \"ticks\": \"\"}, \"colorscale\": [[0.0, \"#0d0887\"], [0.1111111111111111, \"#46039f\"], [0.2222222222222222, \"#7201a8\"], [0.3333333333333333, \"#9c179e\"], [0.4444444444444444, \"#bd3786\"], [0.5555555555555556, \"#d8576b\"], [0.6666666666666666, \"#ed7953\"], [0.7777777777777778, \"#fb9f3a\"], [0.8888888888888888, \"#fdca26\"], [1.0, \"#f0f921\"]], \"type\": \"heatmap\"}], \"heatmapgl\": [{\"colorbar\": {\"outlinewidth\": 0, \"ticks\": \"\"}, \"colorscale\": [[0.0, \"#0d0887\"], [0.1111111111111111, \"#46039f\"], [0.2222222222222222, \"#7201a8\"], [0.3333333333333333, \"#9c179e\"], [0.4444444444444444, \"#bd3786\"], [0.5555555555555556, \"#d8576b\"], [0.6666666666666666, \"#ed7953\"], [0.7777777777777778, \"#fb9f3a\"], [0.8888888888888888, \"#fdca26\"], [1.0, \"#f0f921\"]], \"type\": \"heatmapgl\"}], \"histogram\": [{\"marker\": {\"colorbar\": {\"outlinewidth\": 0, \"ticks\": \"\"}}, \"type\": \"histogram\"}], \"histogram2d\": [{\"colorbar\": {\"outlinewidth\": 0, \"ticks\": \"\"}, \"colorscale\": [[0.0, \"#0d0887\"], [0.1111111111111111, \"#46039f\"], [0.2222222222222222, \"#7201a8\"], [0.3333333333333333, \"#9c179e\"], [0.4444444444444444, \"#bd3786\"], [0.5555555555555556, \"#d8576b\"], [0.6666666666666666, \"#ed7953\"], [0.7777777777777778, \"#fb9f3a\"], [0.8888888888888888, \"#fdca26\"], [1.0, \"#f0f921\"]], \"type\": \"histogram2d\"}], \"histogram2dcontour\": [{\"colorbar\": {\"outlinewidth\": 0, \"ticks\": \"\"}, \"colorscale\": [[0.0, \"#0d0887\"], [0.1111111111111111, \"#46039f\"], [0.2222222222222222, \"#7201a8\"], [0.3333333333333333, \"#9c179e\"], [0.4444444444444444, \"#bd3786\"], [0.5555555555555556, \"#d8576b\"], [0.6666666666666666, \"#ed7953\"], [0.7777777777777778, \"#fb9f3a\"], [0.8888888888888888, \"#fdca26\"], [1.0, \"#f0f921\"]], \"type\": \"histogram2dcontour\"}], \"mesh3d\": [{\"colorbar\": {\"outlinewidth\": 0, \"ticks\": \"\"}, \"type\": \"mesh3d\"}], \"parcoords\": [{\"line\": {\"colorbar\": {\"outlinewidth\": 0, \"ticks\": \"\"}}, \"type\": \"parcoords\"}], \"pie\": [{\"automargin\": true, \"type\": \"pie\"}], \"scatter\": [{\"marker\": {\"colorbar\": {\"outlinewidth\": 0, \"ticks\": \"\"}}, \"type\": \"scatter\"}], \"scatter3d\": [{\"line\": {\"colorbar\": {\"outlinewidth\": 0, \"ticks\": \"\"}}, \"marker\": {\"colorbar\": {\"outlinewidth\": 0, \"ticks\": \"\"}}, \"type\": \"scatter3d\"}], \"scattercarpet\": [{\"marker\": {\"colorbar\": {\"outlinewidth\": 0, \"ticks\": \"\"}}, \"type\": \"scattercarpet\"}], \"scattergeo\": [{\"marker\": {\"colorbar\": {\"outlinewidth\": 0, \"ticks\": \"\"}}, \"type\": \"scattergeo\"}], \"scattergl\": [{\"marker\": {\"colorbar\": {\"outlinewidth\": 0, \"ticks\": \"\"}}, \"type\": \"scattergl\"}], \"scattermapbox\": [{\"marker\": {\"colorbar\": {\"outlinewidth\": 0, \"ticks\": \"\"}}, \"type\": \"scattermapbox\"}], \"scatterpolar\": [{\"marker\": {\"colorbar\": {\"outlinewidth\": 0, \"ticks\": \"\"}}, \"type\": \"scatterpolar\"}], \"scatterpolargl\": [{\"marker\": {\"colorbar\": {\"outlinewidth\": 0, \"ticks\": \"\"}}, \"type\": \"scatterpolargl\"}], \"scatterternary\": [{\"marker\": {\"colorbar\": {\"outlinewidth\": 0, \"ticks\": \"\"}}, \"type\": \"scatterternary\"}], \"surface\": [{\"colorbar\": {\"outlinewidth\": 0, \"ticks\": \"\"}, \"colorscale\": [[0.0, \"#0d0887\"], [0.1111111111111111, \"#46039f\"], [0.2222222222222222, \"#7201a8\"], [0.3333333333333333, \"#9c179e\"], [0.4444444444444444, \"#bd3786\"], [0.5555555555555556, \"#d8576b\"], [0.6666666666666666, \"#ed7953\"], [0.7777777777777778, \"#fb9f3a\"], [0.8888888888888888, \"#fdca26\"], [1.0, \"#f0f921\"]], \"type\": \"surface\"}], \"table\": [{\"cells\": {\"fill\": {\"color\": \"#EBF0F8\"}, \"line\": {\"color\": \"white\"}}, \"header\": {\"fill\": {\"color\": \"#C8D4E3\"}, \"line\": {\"color\": \"white\"}}, \"type\": \"table\"}]}, \"layout\": {\"annotationdefaults\": {\"arrowcolor\": \"#2a3f5f\", \"arrowhead\": 0, \"arrowwidth\": 1}, \"coloraxis\": {\"colorbar\": {\"outlinewidth\": 0, \"ticks\": \"\"}}, \"colorscale\": {\"diverging\": [[0, \"#8e0152\"], [0.1, \"#c51b7d\"], [0.2, \"#de77ae\"], [0.3, \"#f1b6da\"], [0.4, \"#fde0ef\"], [0.5, \"#f7f7f7\"], [0.6, \"#e6f5d0\"], [0.7, \"#b8e186\"], [0.8, \"#7fbc41\"], [0.9, \"#4d9221\"], [1, \"#276419\"]], \"sequential\": [[0.0, \"#0d0887\"], [0.1111111111111111, \"#46039f\"], [0.2222222222222222, \"#7201a8\"], [0.3333333333333333, \"#9c179e\"], [0.4444444444444444, \"#bd3786\"], [0.5555555555555556, \"#d8576b\"], [0.6666666666666666, \"#ed7953\"], [0.7777777777777778, \"#fb9f3a\"], [0.8888888888888888, \"#fdca26\"], [1.0, \"#f0f921\"]], \"sequentialminus\": [[0.0, \"#0d0887\"], [0.1111111111111111, \"#46039f\"], [0.2222222222222222, \"#7201a8\"], [0.3333333333333333, \"#9c179e\"], [0.4444444444444444, \"#bd3786\"], [0.5555555555555556, \"#d8576b\"], [0.6666666666666666, \"#ed7953\"], [0.7777777777777778, \"#fb9f3a\"], [0.8888888888888888, \"#fdca26\"], [1.0, \"#f0f921\"]]}, \"colorway\": [\"#636efa\", \"#EF553B\", \"#00cc96\", \"#ab63fa\", \"#FFA15A\", \"#19d3f3\", \"#FF6692\", \"#B6E880\", \"#FF97FF\", \"#FECB52\"], \"font\": {\"color\": \"#2a3f5f\"}, \"geo\": {\"bgcolor\": \"white\", \"lakecolor\": \"white\", \"landcolor\": \"#E5ECF6\", \"showlakes\": true, \"showland\": true, \"subunitcolor\": \"white\"}, \"hoverlabel\": {\"align\": \"left\"}, \"hovermode\": \"closest\", \"mapbox\": {\"style\": \"light\"}, \"paper_bgcolor\": \"white\", \"plot_bgcolor\": \"#E5ECF6\", \"polar\": {\"angularaxis\": {\"gridcolor\": \"white\", \"linecolor\": \"white\", \"ticks\": \"\"}, \"bgcolor\": \"#E5ECF6\", \"radialaxis\": {\"gridcolor\": \"white\", \"linecolor\": \"white\", \"ticks\": \"\"}}, \"scene\": {\"xaxis\": {\"backgroundcolor\": \"#E5ECF6\", \"gridcolor\": \"white\", \"gridwidth\": 2, \"linecolor\": \"white\", \"showbackground\": true, \"ticks\": \"\", \"zerolinecolor\": \"white\"}, \"yaxis\": {\"backgroundcolor\": \"#E5ECF6\", \"gridcolor\": \"white\", \"gridwidth\": 2, \"linecolor\": \"white\", \"showbackground\": true, \"ticks\": \"\", \"zerolinecolor\": \"white\"}, \"zaxis\": {\"backgroundcolor\": \"#E5ECF6\", \"gridcolor\": \"white\", \"gridwidth\": 2, \"linecolor\": \"white\", \"showbackground\": true, \"ticks\": \"\", \"zerolinecolor\": \"white\"}}, \"shapedefaults\": {\"line\": {\"color\": \"#2a3f5f\"}}, \"ternary\": {\"aaxis\": {\"gridcolor\": \"white\", \"linecolor\": \"white\", \"ticks\": \"\"}, \"baxis\": {\"gridcolor\": \"white\", \"linecolor\": \"white\", \"ticks\": \"\"}, \"bgcolor\": \"#E5ECF6\", \"caxis\": {\"gridcolor\": \"white\", \"linecolor\": \"white\", \"ticks\": \"\"}}, \"title\": {\"x\": 0.05}, \"xaxis\": {\"automargin\": true, \"gridcolor\": \"white\", \"linecolor\": \"white\", \"ticks\": \"\", \"title\": {\"standoff\": 15}, \"zerolinecolor\": \"white\", \"zerolinewidth\": 2}, \"yaxis\": {\"automargin\": true, \"gridcolor\": \"white\", \"linecolor\": \"white\", \"ticks\": \"\", \"title\": {\"standoff\": 15}, \"zerolinecolor\": \"white\", \"zerolinewidth\": 2}}}},\n",
              "                        {\"responsive\": true}\n",
              "                    ).then(function(){\n",
              "                            \n",
              "var gd = document.getElementById('cf4c6cb7-dd77-41c7-9291-c098b9948535');\n",
              "var x = new MutationObserver(function (mutations, observer) {{\n",
              "        var display = window.getComputedStyle(gd).display;\n",
              "        if (!display || display === 'none') {{\n",
              "            console.log([gd, 'removed!']);\n",
              "            Plotly.purge(gd);\n",
              "            observer.disconnect();\n",
              "        }}\n",
              "}});\n",
              "\n",
              "// Listen for the removal of the full notebook cells\n",
              "var notebookContainer = gd.closest('#notebook-container');\n",
              "if (notebookContainer) {{\n",
              "    x.observe(notebookContainer, {childList: true});\n",
              "}}\n",
              "\n",
              "// Listen for the clearing of the current output cell\n",
              "var outputEl = gd.closest('.output');\n",
              "if (outputEl) {{\n",
              "    x.observe(outputEl, {childList: true});\n",
              "}}\n",
              "\n",
              "                        })\n",
              "                };\n",
              "                \n",
              "            </script>\n",
              "        </div>\n",
              "</body>\n",
              "</html>"
            ]
          },
          "metadata": {
            "tags": []
          }
        }
      ]
    },
    {
      "cell_type": "code",
      "metadata": {
        "id": "8SSXY1kQTKqI"
      },
      "source": [
        "def hiring_prob(flow_df, gender):\n",
        "  top_of_funnel = fullstack_flow_df[gender][0]\n",
        "  end_of_funnel = fullstack_flow_df[gender][-1]\n",
        "\n",
        "  return end_of_funnel * 100.0 / top_of_funnel"
      ],
      "execution_count": null,
      "outputs": []
    },
    {
      "cell_type": "code",
      "metadata": {
        "id": "OJtlpQquTqdV",
        "outputId": "6a4b3d24-4c18-4389-fe99-1970a7990fa6",
        "colab": {
          "base_uri": "https://localhost:8080/"
        }
      },
      "source": [
        "for gender in fullstack_flow_df.columns:\n",
        "  print(f\"Prob. of getting hired, given that a {gender} person sent a CV: {round(hiring_prob(fullstack_flow_df, gender),2)}%\")"
      ],
      "execution_count": null,
      "outputs": [
        {
          "output_type": "stream",
          "text": [
            "Prob. of getting hired, given that a Male person sent a CV: 0.28%\n",
            "Prob. of getting hired, given that a Female person sent a CV: 0.2%\n",
            "Prob. of getting hired, given that a Non-Binary person sent a CV: 0.0%\n",
            "Prob. of getting hired, given that a Trans person sent a CV: 2.0%\n"
          ],
          "name": "stdout"
        }
      ]
    },
    {
      "cell_type": "code",
      "metadata": {
        "id": "NuGOvFEuwctE"
      },
      "source": [
        "def compute_score(flow_df, marginalized_group, hegemonic_group):\n",
        "  marg_group_prob = hiring_prob(flow_df, marginalized_group)\n",
        "  heg_group_prob = hiring_prob(flow_df, hegemonic_group)\n",
        "\n",
        "  return marg_group_prob * 100.0 / heg_group_prob"
      ],
      "execution_count": null,
      "outputs": []
    },
    {
      "cell_type": "code",
      "metadata": {
        "id": "XB0Xpsn_6CU-",
        "outputId": "349e9e56-da8d-4b98-d60c-f25c3e0b87b8",
        "colab": {
          "base_uri": "https://localhost:8080/"
        }
      },
      "source": [
        "check_disc = 'Female'\n",
        "baseline_reference = 'Male'\n",
        "\n",
        "discrimination_score = compute_score(fullstack_flow_df, check_disc, baseline_reference)\n",
        "print(f\"Your score: {round(discrimination_score,2)}\")\n",
        "print(f\"How to interpret your score? In your hiring flow {check_disc} candidates who are sending a CV are {round(100-discrimination_score,2)}%±5% less likely to get hired when compared to {baseline_reference} candidates with similar credentials.\")"
      ],
      "execution_count": null,
      "outputs": [
        {
          "output_type": "stream",
          "text": [
            "Your score: 73.43\n",
            "How to interpret your score? In your hiring flow Female candidates who are sending a CV are 26.57%±5% less likely to get hired when compared to Male candidates with similar credentials.\n"
          ],
          "name": "stdout"
        }
      ]
    },
    {
      "cell_type": "markdown",
      "metadata": {
        "id": "_FdZSEiir8Gv"
      },
      "source": [
        "# Remaining questions\n",
        "1. How many \"eligible\" candidates are there prior to the CV stage? How different is the drop off in answering the job ad?\n",
        "2. What happenes in \"Proffesional Interview 2\"?"
      ]
    },
    {
      "cell_type": "code",
      "metadata": {
        "id": "Haav7i-vuPCd"
      },
      "source": [
        ""
      ],
      "execution_count": null,
      "outputs": []
    },
    {
      "cell_type": "markdown",
      "metadata": {
        "id": "pTHgAByaukc0"
      },
      "source": [
        "## Biases in job ads (based on the [Gender Decoder](http://gender-decoder.katmatfield.com/))\n",
        "\n",
        "### Methodology\n",
        "1. Get ad \n",
        "2. If ad is not in English: translate to English (via Google Translate)\n",
        "3. Feed ad to Gender Decoder and identify biases\n",
        "\n",
        "### Use case 1: DS @ the Ministry of Justice\n",
        "1. Ad: [DS @ the Ministry of Justice](https://www.linkedin.com/jobs/view/2228989246/?refId=2c659612-86f0-3204-854d-b67d06d53b1a)\n",
        "2. Result: the Ministry of Justice ad is **strongly masculine-coded**) (see [full report](http://gender-decoder.katmatfield.com/results/e2fcad8c-bea6-4539-99f1-0e14c6589d50))\n",
        "\n",
        "### Use case 2: Computer Vision Engineer @ Webiks\n",
        "1. Ad: [Computer Vision Engineer @ Webiks](https://www.linkedin.com/jobs/view/2227800643/?refId=3845504191604142176566&trackingId=19bD1N3ahvrh%2BBsENcDXkw%3D%3D)\n",
        "2. Result: the Webiks ad is **subtly feminine-coded**) (see [full report](http://gender-decoder.katmatfield.com/results/b844b2db-2d94-4e51-a4b3-aae06f00c37f)"
      ]
    },
    {
      "cell_type": "code",
      "metadata": {
        "id": "OxvX4SHIvtaE"
      },
      "source": [
        ""
      ],
      "execution_count": null,
      "outputs": []
    }
  ]
}